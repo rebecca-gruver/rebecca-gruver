{
  "nbformat": 4,
  "nbformat_minor": 0,
  "metadata": {
    "colab": {
      "name": "ais data rnn",
      "provenance": [],
      "collapsed_sections": [],
      "include_colab_link": true
    },
    "kernelspec": {
      "name": "python3",
      "display_name": "Python 3"
    },
    "accelerator": "GPU"
  },
  "cells": [
    {
      "cell_type": "markdown",
      "metadata": {
        "id": "view-in-github",
        "colab_type": "text"
      },
      "source": [
        "<a href=\"https://colab.research.google.com/github/rebecca-gruver/rebecca-gruver/blob/master/ais_data_rnn.ipynb\" target=\"_parent\"><img src=\"https://colab.research.google.com/assets/colab-badge.svg\" alt=\"Open In Colab\"/></a>"
      ]
    },
    {
      "cell_type": "code",
      "metadata": {
        "id": "k5HcgzKMiuXA"
      },
      "source": [
        "import pandas as pd\n",
        "import io"
      ],
      "execution_count": null,
      "outputs": []
    },
    {
      "cell_type": "code",
      "metadata": {
        "colab": {
          "base_uri": "https://localhost:8080/"
        },
        "id": "JgjIhqq6q9Y3",
        "outputId": "0ea38384-9f83-4682-8298-6edae6c3baf3"
      },
      "source": [
        "from google.colab import drive\n",
        "drive.mount('/content/drive')"
      ],
      "execution_count": null,
      "outputs": [
        {
          "output_type": "stream",
          "text": [
            "Drive already mounted at /content/drive; to attempt to forcibly remount, call drive.mount(\"/content/drive\", force_remount=True).\n"
          ],
          "name": "stdout"
        }
      ]
    },
    {
      "cell_type": "code",
      "metadata": {
        "id": "SFLtuKawVFPJ"
      },
      "source": [
        "path = '/content/drive/MyDrive/Colab Notebooks/AIS_2020_01_01.csv'\n",
        "df = pd.read_csv(path)"
      ],
      "execution_count": null,
      "outputs": []
    },
    {
      "cell_type": "code",
      "metadata": {
        "colab": {
          "base_uri": "https://localhost:8080/",
          "height": 419
        },
        "id": "LP19iq4bzeUp",
        "outputId": "40e6082a-e8ca-4497-a62b-d4cc5c9a9b58"
      },
      "source": [
        "df"
      ],
      "execution_count": null,
      "outputs": [
        {
          "output_type": "execute_result",
          "data": {
            "text/html": [
              "<div>\n",
              "<style scoped>\n",
              "    .dataframe tbody tr th:only-of-type {\n",
              "        vertical-align: middle;\n",
              "    }\n",
              "\n",
              "    .dataframe tbody tr th {\n",
              "        vertical-align: top;\n",
              "    }\n",
              "\n",
              "    .dataframe thead th {\n",
              "        text-align: right;\n",
              "    }\n",
              "</style>\n",
              "<table border=\"1\" class=\"dataframe\">\n",
              "  <thead>\n",
              "    <tr style=\"text-align: right;\">\n",
              "      <th></th>\n",
              "      <th>MMSI</th>\n",
              "      <th>BaseDateTime</th>\n",
              "      <th>LAT</th>\n",
              "      <th>LON</th>\n",
              "      <th>SOG</th>\n",
              "      <th>COG</th>\n",
              "      <th>Heading</th>\n",
              "      <th>VesselName</th>\n",
              "      <th>IMO</th>\n",
              "      <th>CallSign</th>\n",
              "      <th>VesselType</th>\n",
              "      <th>Status</th>\n",
              "      <th>Length</th>\n",
              "      <th>Width</th>\n",
              "      <th>Draft</th>\n",
              "      <th>Cargo</th>\n",
              "      <th>TranscieverClass</th>\n",
              "    </tr>\n",
              "  </thead>\n",
              "  <tbody>\n",
              "    <tr>\n",
              "      <th>0</th>\n",
              "      <td>367149340</td>\n",
              "      <td>2020-01-01T00:00:00</td>\n",
              "      <td>29.96476</td>\n",
              "      <td>-90.02724</td>\n",
              "      <td>1.3</td>\n",
              "      <td>10.0</td>\n",
              "      <td>16.0</td>\n",
              "      <td>SYDNEE TAYLOR</td>\n",
              "      <td>NaN</td>\n",
              "      <td>WDD4807</td>\n",
              "      <td>31.0</td>\n",
              "      <td>0.0</td>\n",
              "      <td>26.0</td>\n",
              "      <td>9.0</td>\n",
              "      <td>NaN</td>\n",
              "      <td>31.0</td>\n",
              "      <td>B</td>\n",
              "    </tr>\n",
              "    <tr>\n",
              "      <th>1</th>\n",
              "      <td>367687520</td>\n",
              "      <td>2020-01-01T00:00:00</td>\n",
              "      <td>30.20558</td>\n",
              "      <td>-91.03578</td>\n",
              "      <td>10.7</td>\n",
              "      <td>124.9</td>\n",
              "      <td>130.0</td>\n",
              "      <td>CHIPPEWA</td>\n",
              "      <td>NaN</td>\n",
              "      <td>WDI3361</td>\n",
              "      <td>31.0</td>\n",
              "      <td>0.0</td>\n",
              "      <td>22.0</td>\n",
              "      <td>NaN</td>\n",
              "      <td>NaN</td>\n",
              "      <td>NaN</td>\n",
              "      <td>B</td>\n",
              "    </tr>\n",
              "    <tr>\n",
              "      <th>2</th>\n",
              "      <td>367368170</td>\n",
              "      <td>2020-01-01T00:00:03</td>\n",
              "      <td>47.53785</td>\n",
              "      <td>-122.32833</td>\n",
              "      <td>0.6</td>\n",
              "      <td>46.5</td>\n",
              "      <td>141.0</td>\n",
              "      <td>SONJA H</td>\n",
              "      <td>NaN</td>\n",
              "      <td>WDE5536</td>\n",
              "      <td>31.0</td>\n",
              "      <td>0.0</td>\n",
              "      <td>18.0</td>\n",
              "      <td>6.0</td>\n",
              "      <td>NaN</td>\n",
              "      <td>32.0</td>\n",
              "      <td>B</td>\n",
              "    </tr>\n",
              "    <tr>\n",
              "      <th>3</th>\n",
              "      <td>367007980</td>\n",
              "      <td>2020-01-01T00:00:05</td>\n",
              "      <td>37.95154</td>\n",
              "      <td>-121.32682</td>\n",
              "      <td>0.0</td>\n",
              "      <td>-49.6</td>\n",
              "      <td>511.0</td>\n",
              "      <td>ANGIE M BRUSCO</td>\n",
              "      <td>IMO5111359</td>\n",
              "      <td>WDC3446</td>\n",
              "      <td>31.0</td>\n",
              "      <td>0.0</td>\n",
              "      <td>28.0</td>\n",
              "      <td>7.0</td>\n",
              "      <td>3.4</td>\n",
              "      <td>NaN</td>\n",
              "      <td>B</td>\n",
              "    </tr>\n",
              "    <tr>\n",
              "      <th>4</th>\n",
              "      <td>367538940</td>\n",
              "      <td>2020-01-01T00:00:05</td>\n",
              "      <td>30.00258</td>\n",
              "      <td>-93.22608</td>\n",
              "      <td>3.1</td>\n",
              "      <td>168.0</td>\n",
              "      <td>511.0</td>\n",
              "      <td>RITA ANN</td>\n",
              "      <td>NaN</td>\n",
              "      <td>WDG4670</td>\n",
              "      <td>31.0</td>\n",
              "      <td>0.0</td>\n",
              "      <td>21.0</td>\n",
              "      <td>NaN</td>\n",
              "      <td>NaN</td>\n",
              "      <td>NaN</td>\n",
              "      <td>B</td>\n",
              "    </tr>\n",
              "    <tr>\n",
              "      <th>...</th>\n",
              "      <td>...</td>\n",
              "      <td>...</td>\n",
              "      <td>...</td>\n",
              "      <td>...</td>\n",
              "      <td>...</td>\n",
              "      <td>...</td>\n",
              "      <td>...</td>\n",
              "      <td>...</td>\n",
              "      <td>...</td>\n",
              "      <td>...</td>\n",
              "      <td>...</td>\n",
              "      <td>...</td>\n",
              "      <td>...</td>\n",
              "      <td>...</td>\n",
              "      <td>...</td>\n",
              "      <td>...</td>\n",
              "      <td>...</td>\n",
              "    </tr>\n",
              "    <tr>\n",
              "      <th>7033450</th>\n",
              "      <td>366967640</td>\n",
              "      <td>2020-01-01T23:59:50</td>\n",
              "      <td>38.54004</td>\n",
              "      <td>-90.24983</td>\n",
              "      <td>0.0</td>\n",
              "      <td>164.1</td>\n",
              "      <td>511.0</td>\n",
              "      <td>CINDY L</td>\n",
              "      <td>NaN</td>\n",
              "      <td>WDB8999</td>\n",
              "      <td>31.0</td>\n",
              "      <td>15.0</td>\n",
              "      <td>12.0</td>\n",
              "      <td>6.0</td>\n",
              "      <td>NaN</td>\n",
              "      <td>31.0</td>\n",
              "      <td>B</td>\n",
              "    </tr>\n",
              "    <tr>\n",
              "      <th>7033451</th>\n",
              "      <td>367092150</td>\n",
              "      <td>2020-01-01T23:59:52</td>\n",
              "      <td>56.81356</td>\n",
              "      <td>-132.96105</td>\n",
              "      <td>0.0</td>\n",
              "      <td>154.0</td>\n",
              "      <td>511.0</td>\n",
              "      <td>ISLAND GIRL</td>\n",
              "      <td>NaN</td>\n",
              "      <td>WDC8725</td>\n",
              "      <td>30.0</td>\n",
              "      <td>NaN</td>\n",
              "      <td>14.0</td>\n",
              "      <td>4.0</td>\n",
              "      <td>NaN</td>\n",
              "      <td>NaN</td>\n",
              "      <td>B</td>\n",
              "    </tr>\n",
              "    <tr>\n",
              "      <th>7033452</th>\n",
              "      <td>366986330</td>\n",
              "      <td>2020-01-01T23:59:52</td>\n",
              "      <td>38.68214</td>\n",
              "      <td>-90.19468</td>\n",
              "      <td>0.4</td>\n",
              "      <td>-49.6</td>\n",
              "      <td>511.0</td>\n",
              "      <td>MISS SHEILA</td>\n",
              "      <td>NaN</td>\n",
              "      <td>WDC2002</td>\n",
              "      <td>31.0</td>\n",
              "      <td>15.0</td>\n",
              "      <td>19.0</td>\n",
              "      <td>7.0</td>\n",
              "      <td>NaN</td>\n",
              "      <td>NaN</td>\n",
              "      <td>B</td>\n",
              "    </tr>\n",
              "    <tr>\n",
              "      <th>7033453</th>\n",
              "      <td>366998040</td>\n",
              "      <td>2020-01-01T23:59:55</td>\n",
              "      <td>28.41163</td>\n",
              "      <td>-96.47558</td>\n",
              "      <td>3.7</td>\n",
              "      <td>62.2</td>\n",
              "      <td>511.0</td>\n",
              "      <td>ST JOSEPH</td>\n",
              "      <td>IMO8983131</td>\n",
              "      <td>WDC2814</td>\n",
              "      <td>31.0</td>\n",
              "      <td>0.0</td>\n",
              "      <td>22.0</td>\n",
              "      <td>10.0</td>\n",
              "      <td>NaN</td>\n",
              "      <td>52.0</td>\n",
              "      <td>B</td>\n",
              "    </tr>\n",
              "    <tr>\n",
              "      <th>7033454</th>\n",
              "      <td>441343000</td>\n",
              "      <td>2020-01-01T23:59:59</td>\n",
              "      <td>34.28028</td>\n",
              "      <td>-120.37148</td>\n",
              "      <td>9.9</td>\n",
              "      <td>103.0</td>\n",
              "      <td>98.0</td>\n",
              "      <td>HYUNDAI BANGKOK</td>\n",
              "      <td>IMO9323510</td>\n",
              "      <td>D7HB</td>\n",
              "      <td>70.0</td>\n",
              "      <td>0.0</td>\n",
              "      <td>303.0</td>\n",
              "      <td>40.0</td>\n",
              "      <td>-12.3</td>\n",
              "      <td>70.0</td>\n",
              "      <td>B</td>\n",
              "    </tr>\n",
              "  </tbody>\n",
              "</table>\n",
              "<p>7033455 rows × 17 columns</p>\n",
              "</div>"
            ],
            "text/plain": [
              "              MMSI         BaseDateTime  ...  Cargo  TranscieverClass\n",
              "0        367149340  2020-01-01T00:00:00  ...   31.0                 B\n",
              "1        367687520  2020-01-01T00:00:00  ...    NaN                 B\n",
              "2        367368170  2020-01-01T00:00:03  ...   32.0                 B\n",
              "3        367007980  2020-01-01T00:00:05  ...    NaN                 B\n",
              "4        367538940  2020-01-01T00:00:05  ...    NaN                 B\n",
              "...            ...                  ...  ...    ...               ...\n",
              "7033450  366967640  2020-01-01T23:59:50  ...   31.0                 B\n",
              "7033451  367092150  2020-01-01T23:59:52  ...    NaN                 B\n",
              "7033452  366986330  2020-01-01T23:59:52  ...    NaN                 B\n",
              "7033453  366998040  2020-01-01T23:59:55  ...   52.0                 B\n",
              "7033454  441343000  2020-01-01T23:59:59  ...   70.0                 B\n",
              "\n",
              "[7033455 rows x 17 columns]"
            ]
          },
          "metadata": {
            "tags": []
          },
          "execution_count": 69
        }
      ]
    },
    {
      "cell_type": "code",
      "metadata": {
        "id": "HtpnjcLmIu0J"
      },
      "source": [
        "df = df.dropna()"
      ],
      "execution_count": null,
      "outputs": []
    },
    {
      "cell_type": "code",
      "metadata": {
        "colab": {
          "base_uri": "https://localhost:8080/",
          "height": 419
        },
        "id": "m0vq8RkEYIbo",
        "outputId": "d0f1e59d-567d-4dd1-88f4-bad1f7a85f91"
      },
      "source": [
        "df"
      ],
      "execution_count": null,
      "outputs": [
        {
          "output_type": "execute_result",
          "data": {
            "text/html": [
              "<div>\n",
              "<style scoped>\n",
              "    .dataframe tbody tr th:only-of-type {\n",
              "        vertical-align: middle;\n",
              "    }\n",
              "\n",
              "    .dataframe tbody tr th {\n",
              "        vertical-align: top;\n",
              "    }\n",
              "\n",
              "    .dataframe thead th {\n",
              "        text-align: right;\n",
              "    }\n",
              "</style>\n",
              "<table border=\"1\" class=\"dataframe\">\n",
              "  <thead>\n",
              "    <tr style=\"text-align: right;\">\n",
              "      <th></th>\n",
              "      <th>MMSI</th>\n",
              "      <th>BaseDateTime</th>\n",
              "      <th>LAT</th>\n",
              "      <th>LON</th>\n",
              "      <th>SOG</th>\n",
              "      <th>COG</th>\n",
              "      <th>Heading</th>\n",
              "      <th>VesselName</th>\n",
              "      <th>IMO</th>\n",
              "      <th>CallSign</th>\n",
              "      <th>VesselType</th>\n",
              "      <th>Status</th>\n",
              "      <th>Length</th>\n",
              "      <th>Width</th>\n",
              "      <th>Draft</th>\n",
              "      <th>Cargo</th>\n",
              "      <th>TranscieverClass</th>\n",
              "    </tr>\n",
              "  </thead>\n",
              "  <tbody>\n",
              "    <tr>\n",
              "      <th>9</th>\n",
              "      <td>477628100</td>\n",
              "      <td>2020-01-01T00:00:01</td>\n",
              "      <td>36.80096</td>\n",
              "      <td>-75.22302</td>\n",
              "      <td>12.8</td>\n",
              "      <td>-128.7</td>\n",
              "      <td>283.0</td>\n",
              "      <td>NINGBO SEAL</td>\n",
              "      <td>IMO9579066</td>\n",
              "      <td>VRJD3</td>\n",
              "      <td>70.0</td>\n",
              "      <td>0.0</td>\n",
              "      <td>225.0</td>\n",
              "      <td>32.0</td>\n",
              "      <td>14.3</td>\n",
              "      <td>70.0</td>\n",
              "      <td>B</td>\n",
              "    </tr>\n",
              "    <tr>\n",
              "      <th>13</th>\n",
              "      <td>367091120</td>\n",
              "      <td>2020-01-01T00:00:04</td>\n",
              "      <td>39.89587</td>\n",
              "      <td>-75.19673</td>\n",
              "      <td>0.0</td>\n",
              "      <td>140.6</td>\n",
              "      <td>511.0</td>\n",
              "      <td>ROBERT E MCALLISTER</td>\n",
              "      <td>IMO9068574</td>\n",
              "      <td>WDC8669</td>\n",
              "      <td>31.0</td>\n",
              "      <td>0.0</td>\n",
              "      <td>33.0</td>\n",
              "      <td>9.0</td>\n",
              "      <td>4.0</td>\n",
              "      <td>52.0</td>\n",
              "      <td>B</td>\n",
              "    </tr>\n",
              "    <tr>\n",
              "      <th>17</th>\n",
              "      <td>538002845</td>\n",
              "      <td>2020-01-01T00:00:10</td>\n",
              "      <td>26.08420</td>\n",
              "      <td>-79.48273</td>\n",
              "      <td>13.2</td>\n",
              "      <td>189.0</td>\n",
              "      <td>187.0</td>\n",
              "      <td>YASA GOLDEN DARDANEL</td>\n",
              "      <td>IMO9339985</td>\n",
              "      <td>V7ME9</td>\n",
              "      <td>80.0</td>\n",
              "      <td>0.0</td>\n",
              "      <td>245.0</td>\n",
              "      <td>42.0</td>\n",
              "      <td>15.0</td>\n",
              "      <td>89.0</td>\n",
              "      <td>B</td>\n",
              "    </tr>\n",
              "    <tr>\n",
              "      <th>24</th>\n",
              "      <td>367528690</td>\n",
              "      <td>2020-01-01T00:00:02</td>\n",
              "      <td>53.90575</td>\n",
              "      <td>-166.51147</td>\n",
              "      <td>0.1</td>\n",
              "      <td>-175.8</td>\n",
              "      <td>15.0</td>\n",
              "      <td>ALASKAN LADY</td>\n",
              "      <td>IMO7742358</td>\n",
              "      <td>WDG3692</td>\n",
              "      <td>30.0</td>\n",
              "      <td>0.0</td>\n",
              "      <td>51.0</td>\n",
              "      <td>9.0</td>\n",
              "      <td>3.0</td>\n",
              "      <td>2.0</td>\n",
              "      <td>B</td>\n",
              "    </tr>\n",
              "    <tr>\n",
              "      <th>29</th>\n",
              "      <td>477214900</td>\n",
              "      <td>2020-01-01T00:00:06</td>\n",
              "      <td>48.13155</td>\n",
              "      <td>-123.43617</td>\n",
              "      <td>0.1</td>\n",
              "      <td>157.5</td>\n",
              "      <td>68.0</td>\n",
              "      <td>PTI HERCULES</td>\n",
              "      <td>IMO9358307</td>\n",
              "      <td>VRBY7</td>\n",
              "      <td>80.0</td>\n",
              "      <td>0.0</td>\n",
              "      <td>183.0</td>\n",
              "      <td>32.0</td>\n",
              "      <td>13.2</td>\n",
              "      <td>80.0</td>\n",
              "      <td>B</td>\n",
              "    </tr>\n",
              "    <tr>\n",
              "      <th>...</th>\n",
              "      <td>...</td>\n",
              "      <td>...</td>\n",
              "      <td>...</td>\n",
              "      <td>...</td>\n",
              "      <td>...</td>\n",
              "      <td>...</td>\n",
              "      <td>...</td>\n",
              "      <td>...</td>\n",
              "      <td>...</td>\n",
              "      <td>...</td>\n",
              "      <td>...</td>\n",
              "      <td>...</td>\n",
              "      <td>...</td>\n",
              "      <td>...</td>\n",
              "      <td>...</td>\n",
              "      <td>...</td>\n",
              "      <td>...</td>\n",
              "    </tr>\n",
              "    <tr>\n",
              "      <th>7033378</th>\n",
              "      <td>403579000</td>\n",
              "      <td>2020-01-01T23:58:52</td>\n",
              "      <td>29.88295</td>\n",
              "      <td>-89.95680</td>\n",
              "      <td>0.0</td>\n",
              "      <td>61.0</td>\n",
              "      <td>100.0</td>\n",
              "      <td>NCC NAJD</td>\n",
              "      <td>IMO9299874</td>\n",
              "      <td>HZAK</td>\n",
              "      <td>80.0</td>\n",
              "      <td>1.0</td>\n",
              "      <td>183.0</td>\n",
              "      <td>32.0</td>\n",
              "      <td>12.2</td>\n",
              "      <td>89.0</td>\n",
              "      <td>A</td>\n",
              "    </tr>\n",
              "    <tr>\n",
              "      <th>7033415</th>\n",
              "      <td>338217000</td>\n",
              "      <td>2020-01-01T23:57:28</td>\n",
              "      <td>29.74080</td>\n",
              "      <td>-95.11424</td>\n",
              "      <td>0.0</td>\n",
              "      <td>43.3</td>\n",
              "      <td>45.0</td>\n",
              "      <td>LIBERTY GLORY</td>\n",
              "      <td>IMO9228136</td>\n",
              "      <td>WADP</td>\n",
              "      <td>70.0</td>\n",
              "      <td>5.0</td>\n",
              "      <td>190.0</td>\n",
              "      <td>32.0</td>\n",
              "      <td>11.9</td>\n",
              "      <td>70.0</td>\n",
              "      <td>A</td>\n",
              "    </tr>\n",
              "    <tr>\n",
              "      <th>7033430</th>\n",
              "      <td>368555000</td>\n",
              "      <td>2020-01-01T23:59:59</td>\n",
              "      <td>47.63040</td>\n",
              "      <td>-122.38389</td>\n",
              "      <td>0.0</td>\n",
              "      <td>-87.8</td>\n",
              "      <td>511.0</td>\n",
              "      <td>ARCTIC STORM</td>\n",
              "      <td>IMO8720113</td>\n",
              "      <td>WTQ5896</td>\n",
              "      <td>30.0</td>\n",
              "      <td>0.0</td>\n",
              "      <td>101.0</td>\n",
              "      <td>14.0</td>\n",
              "      <td>6.4</td>\n",
              "      <td>30.0</td>\n",
              "      <td>B</td>\n",
              "    </tr>\n",
              "    <tr>\n",
              "      <th>7033441</th>\n",
              "      <td>367602520</td>\n",
              "      <td>2020-01-01T23:58:49</td>\n",
              "      <td>32.85486</td>\n",
              "      <td>-79.95249</td>\n",
              "      <td>0.0</td>\n",
              "      <td>-190.8</td>\n",
              "      <td>52.0</td>\n",
              "      <td>MOIRA MCALLISTER</td>\n",
              "      <td>IMO8981391</td>\n",
              "      <td>WDH2920</td>\n",
              "      <td>31.0</td>\n",
              "      <td>15.0</td>\n",
              "      <td>28.0</td>\n",
              "      <td>9.0</td>\n",
              "      <td>3.4</td>\n",
              "      <td>0.0</td>\n",
              "      <td>B</td>\n",
              "    </tr>\n",
              "    <tr>\n",
              "      <th>7033454</th>\n",
              "      <td>441343000</td>\n",
              "      <td>2020-01-01T23:59:59</td>\n",
              "      <td>34.28028</td>\n",
              "      <td>-120.37148</td>\n",
              "      <td>9.9</td>\n",
              "      <td>103.0</td>\n",
              "      <td>98.0</td>\n",
              "      <td>HYUNDAI BANGKOK</td>\n",
              "      <td>IMO9323510</td>\n",
              "      <td>D7HB</td>\n",
              "      <td>70.0</td>\n",
              "      <td>0.0</td>\n",
              "      <td>303.0</td>\n",
              "      <td>40.0</td>\n",
              "      <td>-12.3</td>\n",
              "      <td>70.0</td>\n",
              "      <td>B</td>\n",
              "    </tr>\n",
              "  </tbody>\n",
              "</table>\n",
              "<p>788157 rows × 17 columns</p>\n",
              "</div>"
            ],
            "text/plain": [
              "              MMSI         BaseDateTime  ...  Cargo  TranscieverClass\n",
              "9        477628100  2020-01-01T00:00:01  ...   70.0                 B\n",
              "13       367091120  2020-01-01T00:00:04  ...   52.0                 B\n",
              "17       538002845  2020-01-01T00:00:10  ...   89.0                 B\n",
              "24       367528690  2020-01-01T00:00:02  ...    2.0                 B\n",
              "29       477214900  2020-01-01T00:00:06  ...   80.0                 B\n",
              "...            ...                  ...  ...    ...               ...\n",
              "7033378  403579000  2020-01-01T23:58:52  ...   89.0                 A\n",
              "7033415  338217000  2020-01-01T23:57:28  ...   70.0                 A\n",
              "7033430  368555000  2020-01-01T23:59:59  ...   30.0                 B\n",
              "7033441  367602520  2020-01-01T23:58:49  ...    0.0                 B\n",
              "7033454  441343000  2020-01-01T23:59:59  ...   70.0                 B\n",
              "\n",
              "[788157 rows x 17 columns]"
            ]
          },
          "metadata": {
            "tags": []
          },
          "execution_count": 71
        }
      ]
    },
    {
      "cell_type": "code",
      "metadata": {
        "id": "OviDeXU1HtpK"
      },
      "source": [
        "grouped_df = df.groupby('VesselName')"
      ],
      "execution_count": null,
      "outputs": []
    },
    {
      "cell_type": "code",
      "metadata": {
        "id": "nuCJ9afyHtiV"
      },
      "source": [
        "grouped_lists = grouped_df['LAT'].apply(list)"
      ],
      "execution_count": null,
      "outputs": []
    },
    {
      "cell_type": "code",
      "metadata": {
        "id": "gnGcK7MbHtfn"
      },
      "source": [
        "grouped_lists = grouped_lists.reset_index()"
      ],
      "execution_count": null,
      "outputs": []
    },
    {
      "cell_type": "code",
      "metadata": {
        "colab": {
          "base_uri": "https://localhost:8080/",
          "height": 419
        },
        "id": "HMppp43EHtc3",
        "outputId": "0b808490-98e3-4e70-b394-793bdf5b5c3c"
      },
      "source": [
        "grouped_lists"
      ],
      "execution_count": null,
      "outputs": [
        {
          "output_type": "execute_result",
          "data": {
            "text/html": [
              "<div>\n",
              "<style scoped>\n",
              "    .dataframe tbody tr th:only-of-type {\n",
              "        vertical-align: middle;\n",
              "    }\n",
              "\n",
              "    .dataframe tbody tr th {\n",
              "        vertical-align: top;\n",
              "    }\n",
              "\n",
              "    .dataframe thead th {\n",
              "        text-align: right;\n",
              "    }\n",
              "</style>\n",
              "<table border=\"1\" class=\"dataframe\">\n",
              "  <thead>\n",
              "    <tr style=\"text-align: right;\">\n",
              "      <th></th>\n",
              "      <th>VesselName</th>\n",
              "      <th>LAT</th>\n",
              "    </tr>\n",
              "  </thead>\n",
              "  <tbody>\n",
              "    <tr>\n",
              "      <th>0</th>\n",
              "      <td>A J MCALLISTER</td>\n",
              "      <td>[37.81453, 37.81788, 37.82447, 37.828379999999...</td>\n",
              "    </tr>\n",
              "    <tr>\n",
              "      <th>1</th>\n",
              "      <td>ABIGAIL CLAIRE</td>\n",
              "      <td>[30.49199, 30.493859999999998, 30.49751, 30.49...</td>\n",
              "    </tr>\n",
              "    <tr>\n",
              "      <th>2</th>\n",
              "      <td>ACADIAN</td>\n",
              "      <td>[42.992670000000004, 42.992740000000005, 42.99...</td>\n",
              "    </tr>\n",
              "    <tr>\n",
              "      <th>3</th>\n",
              "      <td>ACHIEVEMENT</td>\n",
              "      <td>[28.234, 28.2526, 28.163590000000003, 28.11454...</td>\n",
              "    </tr>\n",
              "    <tr>\n",
              "      <th>4</th>\n",
              "      <td>ADAM F KRAUSE</td>\n",
              "      <td>[39.269729999999996, 39.269729999999996, 39.26...</td>\n",
              "    </tr>\n",
              "    <tr>\n",
              "      <th>...</th>\n",
              "      <td>...</td>\n",
              "      <td>...</td>\n",
              "    </tr>\n",
              "    <tr>\n",
              "      <th>1296</th>\n",
              "      <td>ZACHERY REINAUER</td>\n",
              "      <td>[42.3804, 42.380359999999996, 42.3803599999999...</td>\n",
              "    </tr>\n",
              "    <tr>\n",
              "      <th>1297</th>\n",
              "      <td>ZENITH</td>\n",
              "      <td>[26.13944, 26.13944, 26.13944, 26.13945, 26.13...</td>\n",
              "    </tr>\n",
              "    <tr>\n",
              "      <th>1298</th>\n",
              "      <td>ZIM ROTTERDAM</td>\n",
              "      <td>[25.80712, 25.847479999999997, 25.87525, 25.88...</td>\n",
              "    </tr>\n",
              "    <tr>\n",
              "      <th>1299</th>\n",
              "      <td>ZOOM ZOOM ZOOM</td>\n",
              "      <td>[25.49713, 25.497139999999998]</td>\n",
              "    </tr>\n",
              "    <tr>\n",
              "      <th>1300</th>\n",
              "      <td>\\ADY0THEO</td>\n",
              "      <td>[32.01319, 32.01178, 32.00963, 32.00934, 32.00...</td>\n",
              "    </tr>\n",
              "  </tbody>\n",
              "</table>\n",
              "<p>1301 rows × 2 columns</p>\n",
              "</div>"
            ],
            "text/plain": [
              "            VesselName                                                LAT\n",
              "0       A J MCALLISTER  [37.81453, 37.81788, 37.82447, 37.828379999999...\n",
              "1       ABIGAIL CLAIRE  [30.49199, 30.493859999999998, 30.49751, 30.49...\n",
              "2              ACADIAN  [42.992670000000004, 42.992740000000005, 42.99...\n",
              "3          ACHIEVEMENT  [28.234, 28.2526, 28.163590000000003, 28.11454...\n",
              "4        ADAM F KRAUSE  [39.269729999999996, 39.269729999999996, 39.26...\n",
              "...                ...                                                ...\n",
              "1296  ZACHERY REINAUER  [42.3804, 42.380359999999996, 42.3803599999999...\n",
              "1297            ZENITH  [26.13944, 26.13944, 26.13944, 26.13945, 26.13...\n",
              "1298     ZIM ROTTERDAM  [25.80712, 25.847479999999997, 25.87525, 25.88...\n",
              "1299    ZOOM ZOOM ZOOM                     [25.49713, 25.497139999999998]\n",
              "1300         \\ADY0THEO  [32.01319, 32.01178, 32.00963, 32.00934, 32.00...\n",
              "\n",
              "[1301 rows x 2 columns]"
            ]
          },
          "metadata": {
            "tags": []
          },
          "execution_count": 75
        }
      ]
    },
    {
      "cell_type": "code",
      "metadata": {
        "id": "Q_nAZRu-NTUC"
      },
      "source": [
        "all_data = df['LAT'].values.astype(float)"
      ],
      "execution_count": null,
      "outputs": []
    },
    {
      "cell_type": "code",
      "metadata": {
        "colab": {
          "base_uri": "https://localhost:8080/"
        },
        "id": "rMFptzGUNTOp",
        "outputId": "75523f07-46f1-4548-88c7-325f502f6256"
      },
      "source": [
        "print(all_data)"
      ],
      "execution_count": null,
      "outputs": [
        {
          "output_type": "stream",
          "text": [
            "[36.80096 39.89587 26.0842  ... 47.6304  32.85486 34.28028]\n"
          ],
          "name": "stdout"
        }
      ]
    },
    {
      "cell_type": "code",
      "metadata": {
        "colab": {
          "base_uri": "https://localhost:8080/"
        },
        "id": "i3bQTaIHNTLm",
        "outputId": "79476f23-500e-4507-b2ab-8451389f87b0"
      },
      "source": [
        "len(all_data)"
      ],
      "execution_count": null,
      "outputs": [
        {
          "output_type": "execute_result",
          "data": {
            "text/plain": [
              "788157"
            ]
          },
          "metadata": {
            "tags": []
          },
          "execution_count": 78
        }
      ]
    },
    {
      "cell_type": "code",
      "metadata": {
        "colab": {
          "base_uri": "https://localhost:8080/"
        },
        "id": "It0uv3LgNTJQ",
        "outputId": "7dba5517-384d-4f33-aad8-d495895bbae3"
      },
      "source": [
        "all_data"
      ],
      "execution_count": null,
      "outputs": [
        {
          "output_type": "execute_result",
          "data": {
            "text/plain": [
              "array([36.80096, 39.89587, 26.0842 , ..., 47.6304 , 32.85486, 34.28028])"
            ]
          },
          "metadata": {
            "tags": []
          },
          "execution_count": 79
        }
      ]
    },
    {
      "cell_type": "code",
      "metadata": {
        "id": "V6Hh6nbpNTGG"
      },
      "source": [
        "test_data_size = 8157"
      ],
      "execution_count": null,
      "outputs": []
    },
    {
      "cell_type": "code",
      "metadata": {
        "id": "fnzmO1F4NTD3"
      },
      "source": [
        "train_data = all_data[:-test_data_size]\n",
        "test_data = all_data[-test_data_size:]"
      ],
      "execution_count": null,
      "outputs": []
    },
    {
      "cell_type": "code",
      "metadata": {
        "colab": {
          "base_uri": "https://localhost:8080/"
        },
        "id": "Kt7WIoT6NS8e",
        "outputId": "a04ec6ad-397c-43d9-ce19-7c3ac3abad7d"
      },
      "source": [
        "print(len(train_data))"
      ],
      "execution_count": null,
      "outputs": [
        {
          "output_type": "stream",
          "text": [
            "780000\n"
          ],
          "name": "stdout"
        }
      ]
    },
    {
      "cell_type": "code",
      "metadata": {
        "colab": {
          "base_uri": "https://localhost:8080/"
        },
        "id": "d-hXazwGWCsR",
        "outputId": "44446f22-3bc7-4c88-cbfd-65eec9ec2ddf"
      },
      "source": [
        "print(train_data)"
      ],
      "execution_count": null,
      "outputs": [
        {
          "output_type": "stream",
          "text": [
            "[36.80096 39.89587 26.0842  ... 41.97533 40.53365 29.81467]\n"
          ],
          "name": "stdout"
        }
      ]
    },
    {
      "cell_type": "code",
      "metadata": {
        "id": "KN6TwNVDWCmG"
      },
      "source": [
        "from sklearn.preprocessing import MinMaxScaler\n",
        "\n",
        "scaler = MinMaxScaler(feature_range=(-1,1))\n",
        "train_data_normalized = scaler.fit_transform(train_data.reshape(-1,1))"
      ],
      "execution_count": null,
      "outputs": []
    },
    {
      "cell_type": "code",
      "metadata": {
        "colab": {
          "base_uri": "https://localhost:8080/"
        },
        "id": "qWATrfF-WCjh",
        "outputId": "48ede178-4136-469f-face-f7719ff92b53"
      },
      "source": [
        "print(train_data_normalized[:5])\n",
        "print(train_data_normalized[-5:])"
      ],
      "execution_count": null,
      "outputs": [
        {
          "output_type": "stream",
          "text": [
            "[[-0.06130338]\n",
            " [ 0.07383373]\n",
            " [-0.5292433 ]\n",
            " [ 0.68556545]\n",
            " [ 0.433439  ]]\n",
            "[[-0.19480351]\n",
            " [-0.3617636 ]\n",
            " [ 0.16463191]\n",
            " [ 0.10168195]\n",
            " [-0.3663549 ]]\n"
          ],
          "name": "stdout"
        }
      ]
    },
    {
      "cell_type": "code",
      "metadata": {
        "id": "ltQC4nZdWChJ"
      },
      "source": [
        "import torch\n",
        "train_data_normalized = torch.FloatTensor(train_data_normalized).view(-1).cuda()"
      ],
      "execution_count": null,
      "outputs": []
    },
    {
      "cell_type": "code",
      "metadata": {
        "id": "jA-G1CJcZLYI"
      },
      "source": [
        "train_window = 24"
      ],
      "execution_count": null,
      "outputs": []
    },
    {
      "cell_type": "code",
      "metadata": {
        "id": "V_W9PinfZLVH"
      },
      "source": [
        "def create_inout_sequences(input_data, tw):\n",
        "  inout_seq = []\n",
        "  L = len(input_data)\n",
        "  for i in range(L-tw):\n",
        "    train_seq = input_data[i:i+tw]\n",
        "    train_label = input_data[i+tw:i+tw+1]\n",
        "    inout_seq.append((train_seq, train_label))\n",
        "  return inout_seq "
      ],
      "execution_count": null,
      "outputs": []
    },
    {
      "cell_type": "code",
      "metadata": {
        "id": "YvQmbbgFZLT4"
      },
      "source": [
        "train_inout_seq = create_inout_sequences(train_data_normalized,train_window)"
      ],
      "execution_count": null,
      "outputs": []
    },
    {
      "cell_type": "code",
      "metadata": {
        "colab": {
          "base_uri": "https://localhost:8080/"
        },
        "id": "KcIkg215ZLS_",
        "outputId": "17d33a00-9dcd-43e4-e795-8bb19bc8cfc5"
      },
      "source": [
        "train_inout_seq[:5]"
      ],
      "execution_count": null,
      "outputs": [
        {
          "output_type": "execute_result",
          "data": {
            "text/plain": [
              "[(tensor([-0.0613,  0.0738, -0.5292,  0.6856,  0.4334, -0.0194, -0.0597, -0.3869,\n",
              "          -0.0190,  0.0433,  0.3251, -0.4939,  0.4689,  0.0743, -0.3620,  0.4126,\n",
              "           0.1016,  0.1063, -0.5261, -0.3697,  0.4364, -0.2336,  0.0542, -0.4111],\n",
              "         device='cuda:0'), tensor([-0.3487], device='cuda:0')),\n",
              " (tensor([ 0.0738, -0.5292,  0.6856,  0.4334, -0.0194, -0.0597, -0.3869, -0.0190,\n",
              "           0.0433,  0.3251, -0.4939,  0.4689,  0.0743, -0.3620,  0.4126,  0.1016,\n",
              "           0.1063, -0.5261, -0.3697,  0.4364, -0.2336,  0.0542, -0.4111, -0.3487],\n",
              "         device='cuda:0'),\n",
              "  tensor([0.1498], device='cuda:0')),\n",
              " (tensor([-0.5292,  0.6856,  0.4334, -0.0194, -0.0597, -0.3869, -0.0190,  0.0433,\n",
              "           0.3251, -0.4939,  0.4689,  0.0743, -0.3620,  0.4126,  0.1016,  0.1063,\n",
              "          -0.5261, -0.3697,  0.4364, -0.2336,  0.0542, -0.4111, -0.3487,  0.1498],\n",
              "         device='cuda:0'), tensor([-0.4886], device='cuda:0')),\n",
              " (tensor([ 0.6856,  0.4334, -0.0194, -0.0597, -0.3869, -0.0190,  0.0433,  0.3251,\n",
              "          -0.4939,  0.4689,  0.0743, -0.3620,  0.4126,  0.1016,  0.1063, -0.5261,\n",
              "          -0.3697,  0.4364, -0.2336,  0.0542, -0.4111, -0.3487,  0.1498, -0.4886],\n",
              "         device='cuda:0'), tensor([0.6954], device='cuda:0')),\n",
              " (tensor([ 0.4334, -0.0194, -0.0597, -0.3869, -0.0190,  0.0433,  0.3251, -0.4939,\n",
              "           0.4689,  0.0743, -0.3620,  0.4126,  0.1016,  0.1063, -0.5261, -0.3697,\n",
              "           0.4364, -0.2336,  0.0542, -0.4111, -0.3487,  0.1498, -0.4886,  0.6954],\n",
              "         device='cuda:0'), tensor([-0.3767], device='cuda:0'))]"
            ]
          },
          "metadata": {
            "tags": []
          },
          "execution_count": 90
        }
      ]
    },
    {
      "cell_type": "code",
      "metadata": {
        "id": "gbgvCeJaZLR0"
      },
      "source": [
        "import torch.nn as nn\n",
        "class LSTM(nn.Module):\n",
        "    def __init__(self, input_size=1, hidden_layer_size=100, output_size=1):\n",
        "        super().__init__()\n",
        "        self.hidden_layer_size = hidden_layer_size\n",
        "\n",
        "        self.lstm = nn.LSTM(input_size, hidden_layer_size)\n",
        "\n",
        "        self.linear = nn.Linear(hidden_layer_size, output_size)\n",
        "\n",
        "        self.hidden_cell = (torch.zeros(1,1,self.hidden_layer_size),\n",
        "                            torch.zeros(1,1,self.hidden_layer_size))\n",
        "\n",
        "    def forward(self, input_seq):\n",
        "        lstm_out, self.hidden_cell = self.lstm(input_seq.view(len(input_seq) ,1, -1), self.hidden_cell)\n",
        "        predictions = self.linear(lstm_out.view(len(input_seq), -1))\n",
        "        return predictions[-1]"
      ],
      "execution_count": null,
      "outputs": []
    },
    {
      "cell_type": "code",
      "metadata": {
        "id": "Vi2TN6e_ZLQ2"
      },
      "source": [
        "model = LSTM()\n",
        "model = model.cuda()\n",
        "loss_function = nn.MSELoss().cuda()\n",
        "optimizer = torch.optim.Adam(model.parameters(), lr=0.001)"
      ],
      "execution_count": null,
      "outputs": []
    },
    {
      "cell_type": "code",
      "metadata": {
        "colab": {
          "base_uri": "https://localhost:8080/"
        },
        "id": "qy37yiUyZLMZ",
        "outputId": "716b9d3a-6331-4a0d-a42e-6417f90e444f"
      },
      "source": [
        "print(model)"
      ],
      "execution_count": null,
      "outputs": [
        {
          "output_type": "stream",
          "text": [
            "LSTM(\n",
            "  (lstm): LSTM(1, 100)\n",
            "  (linear): Linear(in_features=100, out_features=1, bias=True)\n",
            ")\n"
          ],
          "name": "stdout"
        }
      ]
    },
    {
      "cell_type": "code",
      "metadata": {
        "colab": {
          "base_uri": "https://localhost:8080/"
        },
        "id": "ICR86gd4WCeu",
        "outputId": "2f1f1bc8-f36b-4ad1-9982-55da30e18907"
      },
      "source": [
        "\n",
        "epochs = 150\n",
        "for i in range(epochs):\n",
        "    for seq, labels in train_inout_seq:\n",
        "        optimizer.zero_grad()\n",
        "        model.hidden_cell = (torch.zeros(1, 1, model.hidden_layer_size).cuda(),\n",
        "                        torch.zeros(1, 1, model.hidden_layer_size).cuda())\n",
        "\n",
        "        y_pred = model(seq.cuda())\n",
        "\n",
        "        single_loss = loss_function(y_pred, labels)\n",
        "        single_loss.backward()\n",
        "        optimizer.step()\n",
        "        torch.save(model.state_dict(),'model_state_'+str(epochs)+'.pt')\n",
        "\n",
        "    if i%25 == 1:\n",
        "        print(f'epoch: {i:3} loss: {single_loss.item():10.8f}')\n",
        "\n",
        "print(f'epoch: {i:3} loss: {single_loss.item():10.10f}')"
      ],
      "execution_count": null,
      "outputs": [
        {
          "output_type": "stream",
          "text": [
            "epoch:   1 loss: 0.05476350\n"
          ],
          "name": "stdout"
        }
      ]
    },
    {
      "cell_type": "code",
      "metadata": {
        "colab": {
          "base_uri": "https://localhost:8080/"
        },
        "id": "up9fGTj6oOV4",
        "outputId": "9f4bd58d-1917-44c8-f04a-f071bcfe2fc8"
      },
      "source": [
        "fut_pred = 24\n",
        "\n",
        "test_inputs = train_data_normalized[-train_window:].tolist()\n",
        "print(test_inputs)"
      ],
      "execution_count": null,
      "outputs": [
        {
          "output_type": "stream",
          "text": [
            "[-0.3622683584690094, -0.3537433445453644, -0.3694070279598236, -0.5107496976852417, -0.3562968373298645, -0.05232905596494675, -0.3560138940811157, -0.5002711415290833, -0.36337044835090637, 0.10816565901041031, -0.36153873801231384, 0.1434551626443863, -0.5132359862327576, -0.5131045579910278, -0.3406750559806824, -0.34886953234672546, -0.34886953234672546, -0.3908379077911377, -0.3693402409553528, -0.19480350613594055, -0.361763596534729, 0.1646319031715393, 0.10168194770812988, -0.36635491251945496]\n"
          ],
          "name": "stdout"
        }
      ]
    },
    {
      "cell_type": "code",
      "metadata": {
        "id": "h40YgRbxoOSb"
      },
      "source": [
        "model.eval()\n",
        "\n",
        "for i in range(fut_pred):\n",
        "    seq = torch.FloatTensor(test_inputs[-train_window:])\n",
        "    with torch.no_grad():\n",
        "        model.hidden = (torch.zeros(1, 1, model.hidden_layer_size),\n",
        "                        torch.zeros(1, 1, model.hidden_layer_size))\n",
        "        test_inputs.append(model(seq).item())"
      ],
      "execution_count": null,
      "outputs": []
    },
    {
      "cell_type": "code",
      "metadata": {
        "id": "PNWt_mK9oOPv"
      },
      "source": [
        "test_inputs[fut_pred:]"
      ],
      "execution_count": null,
      "outputs": []
    },
    {
      "cell_type": "code",
      "metadata": {
        "id": "RKjPkMc4oONC"
      },
      "source": [
        "actual_predictions = scaler.inverse_transform(np.array(test_inputs[train_window:] ).reshape(-1, 1))\n",
        "print(actual_predictions)"
      ],
      "execution_count": null,
      "outputs": []
    },
    {
      "cell_type": "code",
      "metadata": {
        "id": "THaC3wgjoOKj"
      },
      "source": [
        ""
      ],
      "execution_count": null,
      "outputs": []
    },
    {
      "cell_type": "code",
      "metadata": {
        "id": "1tXUVlI3oOIK"
      },
      "source": [
        ""
      ],
      "execution_count": null,
      "outputs": []
    },
    {
      "cell_type": "code",
      "metadata": {
        "id": "UzFrPcXjWCcN"
      },
      "source": [
        ""
      ],
      "execution_count": null,
      "outputs": []
    },
    {
      "cell_type": "code",
      "metadata": {
        "id": "Dmj5TZXZWCZi"
      },
      "source": [
        ""
      ],
      "execution_count": null,
      "outputs": []
    },
    {
      "cell_type": "code",
      "metadata": {
        "id": "dDmsoXmIbvrl"
      },
      "source": [
        ""
      ],
      "execution_count": null,
      "outputs": []
    },
    {
      "cell_type": "code",
      "metadata": {
        "id": "0Wr9VfnabvoG"
      },
      "source": [
        ""
      ],
      "execution_count": null,
      "outputs": []
    },
    {
      "cell_type": "code",
      "metadata": {
        "id": "rSy-uITtbvlL"
      },
      "source": [
        ""
      ],
      "execution_count": null,
      "outputs": []
    },
    {
      "cell_type": "code",
      "metadata": {
        "id": "ToCmv8QqbviY"
      },
      "source": [
        ""
      ],
      "execution_count": null,
      "outputs": []
    },
    {
      "cell_type": "code",
      "metadata": {
        "id": "J5haoVVRbvf1"
      },
      "source": [
        ""
      ],
      "execution_count": null,
      "outputs": []
    },
    {
      "cell_type": "code",
      "metadata": {
        "id": "GGo4NaR-bvct"
      },
      "source": [
        ""
      ],
      "execution_count": null,
      "outputs": []
    },
    {
      "cell_type": "code",
      "metadata": {
        "id": "SxnDDLSUbvZ5"
      },
      "source": [
        ""
      ],
      "execution_count": null,
      "outputs": []
    },
    {
      "cell_type": "code",
      "metadata": {
        "colab": {
          "base_uri": "https://localhost:8080/",
          "height": 419
        },
        "id": "J-JkXmhgE-lf",
        "outputId": "de042d6f-eeb3-413a-be77-0316e7221dc7"
      },
      "source": [
        "df"
      ],
      "execution_count": null,
      "outputs": [
        {
          "output_type": "execute_result",
          "data": {
            "text/html": [
              "<div>\n",
              "<style scoped>\n",
              "    .dataframe tbody tr th:only-of-type {\n",
              "        vertical-align: middle;\n",
              "    }\n",
              "\n",
              "    .dataframe tbody tr th {\n",
              "        vertical-align: top;\n",
              "    }\n",
              "\n",
              "    .dataframe thead th {\n",
              "        text-align: right;\n",
              "    }\n",
              "</style>\n",
              "<table border=\"1\" class=\"dataframe\">\n",
              "  <thead>\n",
              "    <tr style=\"text-align: right;\">\n",
              "      <th></th>\n",
              "      <th>MMSI</th>\n",
              "      <th>BaseDateTime</th>\n",
              "      <th>LAT</th>\n",
              "      <th>LON</th>\n",
              "      <th>SOG</th>\n",
              "      <th>COG</th>\n",
              "      <th>Heading</th>\n",
              "      <th>VesselName</th>\n",
              "      <th>IMO</th>\n",
              "      <th>CallSign</th>\n",
              "      <th>VesselType</th>\n",
              "      <th>Status</th>\n",
              "      <th>Length</th>\n",
              "      <th>Width</th>\n",
              "      <th>Draft</th>\n",
              "      <th>Cargo</th>\n",
              "      <th>TranscieverClass</th>\n",
              "    </tr>\n",
              "  </thead>\n",
              "  <tbody>\n",
              "    <tr>\n",
              "      <th>0</th>\n",
              "      <td>367149340</td>\n",
              "      <td>2020-01-01T00:00:00</td>\n",
              "      <td>29.96476</td>\n",
              "      <td>-90.02724</td>\n",
              "      <td>1.3</td>\n",
              "      <td>10.0</td>\n",
              "      <td>16.0</td>\n",
              "      <td>SYDNEE TAYLOR</td>\n",
              "      <td>NaN</td>\n",
              "      <td>WDD4807</td>\n",
              "      <td>31.0</td>\n",
              "      <td>0.0</td>\n",
              "      <td>26.0</td>\n",
              "      <td>9.0</td>\n",
              "      <td>NaN</td>\n",
              "      <td>31.0</td>\n",
              "      <td>B</td>\n",
              "    </tr>\n",
              "    <tr>\n",
              "      <th>1</th>\n",
              "      <td>367687520</td>\n",
              "      <td>2020-01-01T00:00:00</td>\n",
              "      <td>30.20558</td>\n",
              "      <td>-91.03578</td>\n",
              "      <td>10.7</td>\n",
              "      <td>124.9</td>\n",
              "      <td>130.0</td>\n",
              "      <td>CHIPPEWA</td>\n",
              "      <td>NaN</td>\n",
              "      <td>WDI3361</td>\n",
              "      <td>31.0</td>\n",
              "      <td>0.0</td>\n",
              "      <td>22.0</td>\n",
              "      <td>NaN</td>\n",
              "      <td>NaN</td>\n",
              "      <td>NaN</td>\n",
              "      <td>B</td>\n",
              "    </tr>\n",
              "    <tr>\n",
              "      <th>2</th>\n",
              "      <td>367368170</td>\n",
              "      <td>2020-01-01T00:00:03</td>\n",
              "      <td>47.53785</td>\n",
              "      <td>-122.32833</td>\n",
              "      <td>0.6</td>\n",
              "      <td>46.5</td>\n",
              "      <td>141.0</td>\n",
              "      <td>SONJA H</td>\n",
              "      <td>NaN</td>\n",
              "      <td>WDE5536</td>\n",
              "      <td>31.0</td>\n",
              "      <td>0.0</td>\n",
              "      <td>18.0</td>\n",
              "      <td>6.0</td>\n",
              "      <td>NaN</td>\n",
              "      <td>32.0</td>\n",
              "      <td>B</td>\n",
              "    </tr>\n",
              "    <tr>\n",
              "      <th>3</th>\n",
              "      <td>367007980</td>\n",
              "      <td>2020-01-01T00:00:05</td>\n",
              "      <td>37.95154</td>\n",
              "      <td>-121.32682</td>\n",
              "      <td>0.0</td>\n",
              "      <td>-49.6</td>\n",
              "      <td>511.0</td>\n",
              "      <td>ANGIE M BRUSCO</td>\n",
              "      <td>IMO5111359</td>\n",
              "      <td>WDC3446</td>\n",
              "      <td>31.0</td>\n",
              "      <td>0.0</td>\n",
              "      <td>28.0</td>\n",
              "      <td>7.0</td>\n",
              "      <td>3.4</td>\n",
              "      <td>NaN</td>\n",
              "      <td>B</td>\n",
              "    </tr>\n",
              "    <tr>\n",
              "      <th>4</th>\n",
              "      <td>367538940</td>\n",
              "      <td>2020-01-01T00:00:05</td>\n",
              "      <td>30.00258</td>\n",
              "      <td>-93.22608</td>\n",
              "      <td>3.1</td>\n",
              "      <td>168.0</td>\n",
              "      <td>511.0</td>\n",
              "      <td>RITA ANN</td>\n",
              "      <td>NaN</td>\n",
              "      <td>WDG4670</td>\n",
              "      <td>31.0</td>\n",
              "      <td>0.0</td>\n",
              "      <td>21.0</td>\n",
              "      <td>NaN</td>\n",
              "      <td>NaN</td>\n",
              "      <td>NaN</td>\n",
              "      <td>B</td>\n",
              "    </tr>\n",
              "    <tr>\n",
              "      <th>...</th>\n",
              "      <td>...</td>\n",
              "      <td>...</td>\n",
              "      <td>...</td>\n",
              "      <td>...</td>\n",
              "      <td>...</td>\n",
              "      <td>...</td>\n",
              "      <td>...</td>\n",
              "      <td>...</td>\n",
              "      <td>...</td>\n",
              "      <td>...</td>\n",
              "      <td>...</td>\n",
              "      <td>...</td>\n",
              "      <td>...</td>\n",
              "      <td>...</td>\n",
              "      <td>...</td>\n",
              "      <td>...</td>\n",
              "      <td>...</td>\n",
              "    </tr>\n",
              "    <tr>\n",
              "      <th>229017</th>\n",
              "      <td>367106880</td>\n",
              "      <td>2020-01-01T00:50:18</td>\n",
              "      <td>30.28373</td>\n",
              "      <td>-91.22243</td>\n",
              "      <td>5.2</td>\n",
              "      <td>-152.8</td>\n",
              "      <td>276.0</td>\n",
              "      <td>NEW ROADS</td>\n",
              "      <td>IMO7527980</td>\n",
              "      <td>WDC9803</td>\n",
              "      <td>60.0</td>\n",
              "      <td>0.0</td>\n",
              "      <td>45.0</td>\n",
              "      <td>20.0</td>\n",
              "      <td>1.5</td>\n",
              "      <td>NaN</td>\n",
              "      <td>A</td>\n",
              "    </tr>\n",
              "    <tr>\n",
              "      <th>229018</th>\n",
              "      <td>369339000</td>\n",
              "      <td>2020-01-01T00:50:12</td>\n",
              "      <td>33.73357</td>\n",
              "      <td>-118.25167</td>\n",
              "      <td>0.0</td>\n",
              "      <td>-158.6</td>\n",
              "      <td>251.0</td>\n",
              "      <td>PRESIDENT KENNEDY</td>\n",
              "      <td>IMO9295218</td>\n",
              "      <td>WPKW</td>\n",
              "      <td>79.0</td>\n",
              "      <td>0.0</td>\n",
              "      <td>300.0</td>\n",
              "      <td>42.0</td>\n",
              "      <td>11.2</td>\n",
              "      <td>79.0</td>\n",
              "      <td>B</td>\n",
              "    </tr>\n",
              "    <tr>\n",
              "      <th>229019</th>\n",
              "      <td>244203000</td>\n",
              "      <td>2020-01-01T00:51:47</td>\n",
              "      <td>27.84289</td>\n",
              "      <td>-97.07279</td>\n",
              "      <td>0.0</td>\n",
              "      <td>-56.9</td>\n",
              "      <td>258.0</td>\n",
              "      <td>HAPPY BUCCANEER</td>\n",
              "      <td>IMO8300389</td>\n",
              "      <td>PEND</td>\n",
              "      <td>70.0</td>\n",
              "      <td>5.0</td>\n",
              "      <td>145.0</td>\n",
              "      <td>28.0</td>\n",
              "      <td>8.3</td>\n",
              "      <td>NaN</td>\n",
              "      <td>A</td>\n",
              "    </tr>\n",
              "    <tr>\n",
              "      <th>229020</th>\n",
              "      <td>338162563</td>\n",
              "      <td>2020-01-01T00:51:50</td>\n",
              "      <td>30.36263</td>\n",
              "      <td>-89.08688</td>\n",
              "      <td>0.0</td>\n",
              "      <td>3.9</td>\n",
              "      <td>511.0</td>\n",
              "      <td>BLUE MOON</td>\n",
              "      <td>NaN</td>\n",
              "      <td>NaN</td>\n",
              "      <td>37.0</td>\n",
              "      <td>NaN</td>\n",
              "      <td>14.0</td>\n",
              "      <td>NaN</td>\n",
              "      <td>NaN</td>\n",
              "      <td>NaN</td>\n",
              "      <td>B</td>\n",
              "    </tr>\n",
              "    <tr>\n",
              "      <th>229021</th>\n",
              "      <td>3676776</td>\n",
              "      <td>NaN</td>\n",
              "      <td>NaN</td>\n",
              "      <td>NaN</td>\n",
              "      <td>NaN</td>\n",
              "      <td>NaN</td>\n",
              "      <td>NaN</td>\n",
              "      <td>NaN</td>\n",
              "      <td>NaN</td>\n",
              "      <td>NaN</td>\n",
              "      <td>NaN</td>\n",
              "      <td>NaN</td>\n",
              "      <td>NaN</td>\n",
              "      <td>NaN</td>\n",
              "      <td>NaN</td>\n",
              "      <td>NaN</td>\n",
              "      <td>NaN</td>\n",
              "    </tr>\n",
              "  </tbody>\n",
              "</table>\n",
              "<p>229022 rows × 17 columns</p>\n",
              "</div>"
            ],
            "text/plain": [
              "             MMSI         BaseDateTime       LAT  ...  Draft  Cargo  TranscieverClass\n",
              "0       367149340  2020-01-01T00:00:00  29.96476  ...    NaN   31.0                 B\n",
              "1       367687520  2020-01-01T00:00:00  30.20558  ...    NaN    NaN                 B\n",
              "2       367368170  2020-01-01T00:00:03  47.53785  ...    NaN   32.0                 B\n",
              "3       367007980  2020-01-01T00:00:05  37.95154  ...    3.4    NaN                 B\n",
              "4       367538940  2020-01-01T00:00:05  30.00258  ...    NaN    NaN                 B\n",
              "...           ...                  ...       ...  ...    ...    ...               ...\n",
              "229017  367106880  2020-01-01T00:50:18  30.28373  ...    1.5    NaN                 A\n",
              "229018  369339000  2020-01-01T00:50:12  33.73357  ...   11.2   79.0                 B\n",
              "229019  244203000  2020-01-01T00:51:47  27.84289  ...    8.3    NaN                 A\n",
              "229020  338162563  2020-01-01T00:51:50  30.36263  ...    NaN    NaN                 B\n",
              "229021    3676776                  NaN       NaN  ...    NaN    NaN               NaN\n",
              "\n",
              "[229022 rows x 17 columns]"
            ]
          },
          "metadata": {
            "tags": []
          },
          "execution_count": 74
        }
      ]
    },
    {
      "cell_type": "code",
      "metadata": {
        "id": "0uVTSvShzmkr"
      },
      "source": [
        "import torch\n",
        "import torch.nn as nn \n",
        "import seaborn as sns\n",
        "import numpy as np\n",
        "import pandas as pd\n",
        "import matplotlib.pyplot as plt\n",
        "%matplotlib inline "
      ],
      "execution_count": null,
      "outputs": []
    },
    {
      "cell_type": "code",
      "metadata": {
        "colab": {
          "base_uri": "https://localhost:8080/",
          "height": 204
        },
        "id": "VqsWA6Av2VJU",
        "outputId": "14423a7e-917c-4792-ec68-d7e0825ff7e1"
      },
      "source": [
        "df.head()"
      ],
      "execution_count": null,
      "outputs": [
        {
          "output_type": "execute_result",
          "data": {
            "text/html": [
              "<div>\n",
              "<style scoped>\n",
              "    .dataframe tbody tr th:only-of-type {\n",
              "        vertical-align: middle;\n",
              "    }\n",
              "\n",
              "    .dataframe tbody tr th {\n",
              "        vertical-align: top;\n",
              "    }\n",
              "\n",
              "    .dataframe thead th {\n",
              "        text-align: right;\n",
              "    }\n",
              "</style>\n",
              "<table border=\"1\" class=\"dataframe\">\n",
              "  <thead>\n",
              "    <tr style=\"text-align: right;\">\n",
              "      <th></th>\n",
              "      <th>MMSI</th>\n",
              "      <th>BaseDateTime</th>\n",
              "      <th>LAT</th>\n",
              "      <th>LON</th>\n",
              "      <th>SOG</th>\n",
              "      <th>COG</th>\n",
              "      <th>Heading</th>\n",
              "      <th>VesselName</th>\n",
              "      <th>IMO</th>\n",
              "      <th>CallSign</th>\n",
              "      <th>VesselType</th>\n",
              "      <th>Status</th>\n",
              "      <th>Length</th>\n",
              "      <th>Width</th>\n",
              "      <th>Draft</th>\n",
              "      <th>Cargo</th>\n",
              "      <th>TranscieverClass</th>\n",
              "    </tr>\n",
              "  </thead>\n",
              "  <tbody>\n",
              "    <tr>\n",
              "      <th>0</th>\n",
              "      <td>367149340</td>\n",
              "      <td>2020-01-01T00:00:00</td>\n",
              "      <td>29.96476</td>\n",
              "      <td>-90.02724</td>\n",
              "      <td>1.3</td>\n",
              "      <td>10.0</td>\n",
              "      <td>16.0</td>\n",
              "      <td>SYDNEE TAYLOR</td>\n",
              "      <td>NaN</td>\n",
              "      <td>WDD4807</td>\n",
              "      <td>31.0</td>\n",
              "      <td>0.0</td>\n",
              "      <td>26.0</td>\n",
              "      <td>9.0</td>\n",
              "      <td>NaN</td>\n",
              "      <td>31.0</td>\n",
              "      <td>B</td>\n",
              "    </tr>\n",
              "    <tr>\n",
              "      <th>1</th>\n",
              "      <td>367687520</td>\n",
              "      <td>2020-01-01T00:00:00</td>\n",
              "      <td>30.20558</td>\n",
              "      <td>-91.03578</td>\n",
              "      <td>10.7</td>\n",
              "      <td>124.9</td>\n",
              "      <td>130.0</td>\n",
              "      <td>CHIPPEWA</td>\n",
              "      <td>NaN</td>\n",
              "      <td>WDI3361</td>\n",
              "      <td>31.0</td>\n",
              "      <td>0.0</td>\n",
              "      <td>22.0</td>\n",
              "      <td>NaN</td>\n",
              "      <td>NaN</td>\n",
              "      <td>NaN</td>\n",
              "      <td>B</td>\n",
              "    </tr>\n",
              "    <tr>\n",
              "      <th>2</th>\n",
              "      <td>367368170</td>\n",
              "      <td>2020-01-01T00:00:03</td>\n",
              "      <td>47.53785</td>\n",
              "      <td>-122.32833</td>\n",
              "      <td>0.6</td>\n",
              "      <td>46.5</td>\n",
              "      <td>141.0</td>\n",
              "      <td>SONJA H</td>\n",
              "      <td>NaN</td>\n",
              "      <td>WDE5536</td>\n",
              "      <td>31.0</td>\n",
              "      <td>0.0</td>\n",
              "      <td>18.0</td>\n",
              "      <td>6.0</td>\n",
              "      <td>NaN</td>\n",
              "      <td>32.0</td>\n",
              "      <td>B</td>\n",
              "    </tr>\n",
              "    <tr>\n",
              "      <th>3</th>\n",
              "      <td>367007980</td>\n",
              "      <td>2020-01-01T00:00:05</td>\n",
              "      <td>37.95154</td>\n",
              "      <td>-121.32682</td>\n",
              "      <td>0.0</td>\n",
              "      <td>-49.6</td>\n",
              "      <td>511.0</td>\n",
              "      <td>ANGIE M BRUSCO</td>\n",
              "      <td>IMO5111359</td>\n",
              "      <td>WDC3446</td>\n",
              "      <td>31.0</td>\n",
              "      <td>0.0</td>\n",
              "      <td>28.0</td>\n",
              "      <td>7.0</td>\n",
              "      <td>3.4</td>\n",
              "      <td>NaN</td>\n",
              "      <td>B</td>\n",
              "    </tr>\n",
              "    <tr>\n",
              "      <th>4</th>\n",
              "      <td>367538940</td>\n",
              "      <td>2020-01-01T00:00:05</td>\n",
              "      <td>30.00258</td>\n",
              "      <td>-93.22608</td>\n",
              "      <td>3.1</td>\n",
              "      <td>168.0</td>\n",
              "      <td>511.0</td>\n",
              "      <td>RITA ANN</td>\n",
              "      <td>NaN</td>\n",
              "      <td>WDG4670</td>\n",
              "      <td>31.0</td>\n",
              "      <td>0.0</td>\n",
              "      <td>21.0</td>\n",
              "      <td>NaN</td>\n",
              "      <td>NaN</td>\n",
              "      <td>NaN</td>\n",
              "      <td>B</td>\n",
              "    </tr>\n",
              "  </tbody>\n",
              "</table>\n",
              "</div>"
            ],
            "text/plain": [
              "        MMSI         BaseDateTime       LAT  ...  Draft  Cargo  TranscieverClass\n",
              "0  367149340  2020-01-01T00:00:00  29.96476  ...    NaN   31.0                 B\n",
              "1  367687520  2020-01-01T00:00:00  30.20558  ...    NaN    NaN                 B\n",
              "2  367368170  2020-01-01T00:00:03  47.53785  ...    NaN   32.0                 B\n",
              "3  367007980  2020-01-01T00:00:05  37.95154  ...    3.4    NaN                 B\n",
              "4  367538940  2020-01-01T00:00:05  30.00258  ...    NaN    NaN                 B\n",
              "\n",
              "[5 rows x 17 columns]"
            ]
          },
          "metadata": {
            "tags": []
          },
          "execution_count": 29
        }
      ]
    },
    {
      "cell_type": "code",
      "metadata": {
        "colab": {
          "base_uri": "https://localhost:8080/"
        },
        "id": "5chm6utm3fTG",
        "outputId": "b23e4160-6523-4bd1-d502-8230a8072369"
      },
      "source": [
        "df.shape"
      ],
      "execution_count": null,
      "outputs": [
        {
          "output_type": "execute_result",
          "data": {
            "text/plain": [
              "(229022, 17)"
            ]
          },
          "metadata": {
            "tags": []
          },
          "execution_count": 31
        }
      ]
    },
    {
      "cell_type": "code",
      "metadata": {
        "colab": {
          "base_uri": "https://localhost:8080/"
        },
        "id": "c4eghyQW3_vr",
        "outputId": "bdf2631b-7ed9-4f17-edcf-05071a41b137"
      },
      "source": [
        "df.columns"
      ],
      "execution_count": null,
      "outputs": [
        {
          "output_type": "execute_result",
          "data": {
            "text/plain": [
              "Index(['MMSI', 'BaseDateTime', 'LAT', 'LON', 'SOG', 'COG', 'Heading',\n",
              "       'VesselName', 'IMO', 'CallSign', 'VesselType', 'Status', 'Length',\n",
              "       'Width', 'Draft', 'Cargo', 'TranscieverClass'],\n",
              "      dtype='object')"
            ]
          },
          "metadata": {
            "tags": []
          },
          "execution_count": 32
        }
      ]
    },
    {
      "cell_type": "code",
      "metadata": {
        "colab": {
          "base_uri": "https://localhost:8080/"
        },
        "id": "WudNX43R4nlt",
        "outputId": "0ff8f9fa-f184-415a-8ae9-52bc2fa63d8b"
      },
      "source": [
        "229022-200000"
      ],
      "execution_count": null,
      "outputs": [
        {
          "output_type": "execute_result",
          "data": {
            "text/plain": [
              "29022"
            ]
          },
          "metadata": {
            "tags": []
          },
          "execution_count": 37
        }
      ]
    },
    {
      "cell_type": "code",
      "metadata": {
        "id": "CFLIgNdM9QnK"
      },
      "source": [
        "vessel_data = df['VesselName']"
      ],
      "execution_count": null,
      "outputs": []
    },
    {
      "cell_type": "code",
      "metadata": {
        "id": "OatmpkYp8urM"
      },
      "source": [
        "test_data_size = 29022\n",
        "train_data = vessel_data[:-test_data_size]\n",
        "test_data = vessel_data[-test_data_size:]"
      ],
      "execution_count": null,
      "outputs": []
    },
    {
      "cell_type": "code",
      "metadata": {
        "colab": {
          "base_uri": "https://localhost:8080/"
        },
        "id": "SsHNPQ6x9uX9",
        "outputId": "6b01b54e-7a3e-4604-89c8-9b3520594972"
      },
      "source": [
        "print(len(train_data))\n",
        "print(len(test_data))"
      ],
      "execution_count": null,
      "outputs": [
        {
          "output_type": "stream",
          "text": [
            "200000\n",
            "29022\n"
          ],
          "name": "stdout"
        }
      ]
    },
    {
      "cell_type": "code",
      "metadata": {
        "colab": {
          "base_uri": "https://localhost:8080/"
        },
        "id": "f44JAYC99zK7",
        "outputId": "595026dc-f4be-45cc-ccc9-e0509cd998dd"
      },
      "source": [
        "print(test_data)"
      ],
      "execution_count": null,
      "outputs": [
        {
          "output_type": "stream",
          "text": [
            "200000            DAUNTLESS\n",
            "200001       MISS GABRIELLA\n",
            "200002            UNBRIDLED\n",
            "200003              JAMES T\n",
            "200004         CG BARRACUDA\n",
            "                ...        \n",
            "229017            NEW ROADS\n",
            "229018    PRESIDENT KENNEDY\n",
            "229019      HAPPY BUCCANEER\n",
            "229020            BLUE MOON\n",
            "229021                  NaN\n",
            "Name: VesselName, Length: 29022, dtype: object\n"
          ],
          "name": "stdout"
        }
      ]
    },
    {
      "cell_type": "code",
      "metadata": {
        "id": "ixq2aQpO_TJT"
      },
      "source": [
        ""
      ],
      "execution_count": null,
      "outputs": []
    }
  ]
}